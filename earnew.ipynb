{
 "cells": [
  {
   "cell_type": "code",
   "execution_count": null,
   "metadata": {},
   "outputs": [],
   "source": [
    "import os\n",
    "import cv2\n",
    "import numpy as np\n",
    "\n",
    "def preprocess_image(image):\n",
    "    # Step 2: Convert RGB image to YCbCr color space\n",
    "    ycbcr_image = cv2.cvtColor(image, cv2.COLOR_BGR2YCrCb)\n",
    "    \n",
    "    # Step 3: Detect skin/non-skin by chrominance component Cb and Cr\n",
    "    cb = ycbcr_image[:,:,1]\n",
    "    cr = ycbcr_image[:,:,2]\n",
    "    skin_mask = cv2.inRange(ycbcr_image, (0, 133, 77), (255, 173, 127))  # Skin color range\n",
    "    \n",
    "    # Step 4: Convert the image from the previous step to a binary image\n",
    "    binary_image = cv2.threshold(skin_mask, 0, 255, cv2.THRESH_BINARY)[1]\n",
    "    \n",
    "    # Step 5: Morphological operation (closing) is used to fill gaps in small regions and remove unimportant information\n",
    "    kernel = np.ones((5,5),np.uint8)\n",
    "    closing = cv2.morphologyEx(binary_image, cv2.MORPH_CLOSE, kernel)\n",
    "    \n",
    "    # Step 6: Convert image to RGB image to obtain an ear color image\n",
    "    ear_color_image = cv2.bitwise_and(image, image, mask=closing)\n",
    "    \n",
    "    return ear_color_image\n",
    "\n",
    "def load_images_from_folder(folder):\n",
    "    images = []\n",
    "    for filename in os.listdir(folder):\n",
    "        img_path = os.path.join(folder, filename)\n",
    "        if os.path.isfile(img_path):\n",
    "            # Read the image using OpenCV\n",
    "            img = cv2.imread(img_path)\n",
    "            if img is not None:\n",
    "                images.append(img)\n",
    "    return images\n",
    "\n",
    "# Define the input and output directories\n",
    "input_folder = 'D:\\Prayag Files\\TIET\\Extras\\Ear Detection\\subset-1'\n",
    "output_folder = 'D:\\Prayag Files\\TIET\\Extras\\Ear Detection\\output images'\n",
    "\n",
    "# Create the output directory if it doesn't exist\n",
    "if not os.path.exists(output_folder):\n",
    "    os.makedirs(output_folder)\n",
    "\n",
    "# Load images from the input folder\n",
    "input_images = load_images_from_folder(input_folder)\n",
    "\n",
    "# Process and save images\n",
    "for img in input_images:\n",
    "    output_img = preprocess_image(img)\n",
    "    filename = os.path.basename(img)\n",
    "    output_path = os.path.join(output_folder, filename)\n",
    "    cv2.imwrite(output_path, output_img)\n"
   ]
  }
 ],
 "metadata": {
  "kernelspec": {
   "display_name": "Python 3",
   "language": "python",
   "name": "python3"
  },
  "language_info": {
   "codemirror_mode": {
    "name": "ipython",
    "version": 3
   },
   "file_extension": ".py",
   "mimetype": "text/x-python",
   "name": "python",
   "nbconvert_exporter": "python",
   "pygments_lexer": "ipython3",
   "version": "3.11.0"
  },
  "orig_nbformat": 4
 },
 "nbformat": 4,
 "nbformat_minor": 2
}
