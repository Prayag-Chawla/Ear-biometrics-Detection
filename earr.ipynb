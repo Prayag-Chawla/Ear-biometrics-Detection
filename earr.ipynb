{
 "cells": [
  {
   "cell_type": "code",
   "execution_count": 7,
   "metadata": {},
   "outputs": [
    {
     "name": "stdout",
     "output_type": "stream",
     "text": [
      "None\n"
     ]
    },
    {
     "ename": "error",
     "evalue": "OpenCV(4.6.0) D:\\a\\opencv-python\\opencv-python\\opencv\\modules\\imgproc\\src\\color.cpp:182: error: (-215:Assertion failed) !_src.empty() in function 'cv::cvtColor'\n",
     "output_type": "error",
     "traceback": [
      "\u001b[1;31m---------------------------------------------------------------------------\u001b[0m",
      "\u001b[1;31merror\u001b[0m                                     Traceback (most recent call last)",
      "\u001b[1;32md:\\Prayag Files\\Coding\\ear detection biometrics\\IITD ear\\earr.ipynb Cell 1\u001b[0m in \u001b[0;36m1\n\u001b[0;32m      <a href='vscode-notebook-cell:/d%3A/Prayag%20Files/Coding/ear%20detection%20biometrics/IITD%20ear/earr.ipynb#W0sZmlsZQ%3D%3D?line=7'>8</a>\u001b[0m image \u001b[39m=\u001b[39m cv2\u001b[39m.\u001b[39mimread(\u001b[39m\"\u001b[39m\u001b[39mindex.jpeg\u001b[39m\u001b[39m\"\u001b[39m)\n\u001b[0;32m      <a href='vscode-notebook-cell:/d%3A/Prayag%20Files/Coding/ear%20detection%20biometrics/IITD%20ear/earr.ipynb#W0sZmlsZQ%3D%3D?line=8'>9</a>\u001b[0m \u001b[39mprint\u001b[39m(image) \n\u001b[1;32m---> <a href='vscode-notebook-cell:/d%3A/Prayag%20Files/Coding/ear%20detection%20biometrics/IITD%20ear/earr.ipynb#W0sZmlsZQ%3D%3D?line=9'>10</a>\u001b[0m imageYCrCb \u001b[39m=\u001b[39m cv2\u001b[39m.\u001b[39;49mcvtColor(image,cv2\u001b[39m.\u001b[39;49mCOLOR_BGR2YCR_CB)\n\u001b[0;32m     <a href='vscode-notebook-cell:/d%3A/Prayag%20Files/Coding/ear%20detection%20biometrics/IITD%20ear/earr.ipynb#W0sZmlsZQ%3D%3D?line=10'>11</a>\u001b[0m skinRegionYCrCb \u001b[39m=\u001b[39m cv2\u001b[39m.\u001b[39minRange(imageYCrCb,min_YCrCb,max_YCrCb)\n\u001b[0;32m     <a href='vscode-notebook-cell:/d%3A/Prayag%20Files/Coding/ear%20detection%20biometrics/IITD%20ear/earr.ipynb#W0sZmlsZQ%3D%3D?line=12'>13</a>\u001b[0m skinYCrCb \u001b[39m=\u001b[39m cv2\u001b[39m.\u001b[39mbitwise_and(image, image, mask \u001b[39m=\u001b[39m skinRegionYCrCb)\n",
      "\u001b[1;31merror\u001b[0m: OpenCV(4.6.0) D:\\a\\opencv-python\\opencv-python\\opencv\\modules\\imgproc\\src\\color.cpp:182: error: (-215:Assertion failed) !_src.empty() in function 'cv::cvtColor'\n"
     ]
    }
   ],
   "source": [
    "import cv2\n",
    "import numpy as np\n",
    "import matplotlib.pyplot as plt\n",
    "\n",
    "min_YCrCb = np.array([0,133,77],np.uint8)\n",
    "max_YCrCb = np.array([235,173,127],np.uint8)\n",
    "\n",
    "image = cv2.imread(\"122_2.bmp\")\n",
    "# (\"index.jpeg\")\n",
    "print(image) \n",
    "imageYCrCb = cv2.cvtColor(image,cv2.COLOR_BGR2YCR_CB)\n",
    "skinRegionYCrCb = cv2.inRange(imageYCrCb,min_YCrCb,max_YCrCb)\n",
    "\n",
    "skinYCrCb = cv2.bitwise_and(image, image, mask = skinRegionYCrCb)\n",
    "\n",
    "cv2.imwrite(\"indexycrcb.png\", np.hstack([image,skinYCrCb]))"
   ]
  }
 ],
 "metadata": {
  "kernelspec": {
   "display_name": "Python 3",
   "language": "python",
   "name": "python3"
  },
  "language_info": {
   "codemirror_mode": {
    "name": "ipython",
    "version": 3
   },
   "file_extension": ".py",
   "mimetype": "text/x-python",
   "name": "python",
   "nbconvert_exporter": "python",
   "pygments_lexer": "ipython3",
   "version": "3.11.0"
  },
  "orig_nbformat": 4
 },
 "nbformat": 4,
 "nbformat_minor": 2
}
